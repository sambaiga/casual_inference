{
 "cells": [
  {
   "cell_type": "code",
   "execution_count": 1,
   "metadata": {},
   "outputs": [],
   "source": [
    "# import some dependencies\n",
    "%matplotlib inline\n",
    "import torch\n",
    "import torch.nn.functional as F\n",
    "import numpy as np\n",
    "torch.manual_seed(101);\n",
    "torch.set_printoptions(precision=3)\n",
    "import pyro\n",
    "import pyro.distributions as dist\n",
    "import pyro.ops.stats as stats\n",
    "import pandas as pd\n",
    "import seaborn as sns\n",
    "import matplotlib.pyplot as plt\n",
    "sns.set(style=\"ticks\", palette=\"muted\", color_codes=True)\n",
    "#plt.rc('text', usetex=True)\n",
    "#plt.rc('font', family='serif')"
   ]
  },
  {
   "cell_type": "markdown",
   "metadata": {},
   "source": [
    "1. https://github.com/ahmadsalim/2019-meetup-pyro-intro/blob/master/bayesian_logreg.ipynb\n",
    "2. https://github.com/einbandi/pyro-vae-classifier/blob/master/pyro-vae.ipynb\n",
    "3. https://github.com/cerkovni/meetup_917_pyro\n",
    "4. https://mltrain.cc/wp-content/uploads/2018/02/MLTrain@UAI_-Bayesian-Regression-in-Pyro.pdf\n",
    "5. https://alsibahi.xyz/snippets/2019/06/15/pyro_mnist_bnn_kl.html\n",
    "6. http://willcrichton.net/notes/probabilistic-programming-under-the-hood/\n",
    "7. https://medium.com/paper-club/understanding-pyros-model-and-guide-a-love-story-7f3aa0603886\n",
    "8. https://camdavidsonpilon.github.io/Probabilistic-Programming-and-Bayesian-Methods-for-Hackers/"
   ]
  },
  {
   "cell_type": "markdown",
   "metadata": {},
   "source": [
    "## Introduction"
   ]
  },
  {
   "cell_type": "markdown",
   "metadata": {},
   "source": [
    "## 1. Models:\n",
    "Models represent simplified or abstract descriptions of a process by which data are generated. Models in pyro are expressed as *stochastic functions* which implies that models can be composed, reused, imported, and serialized just like regular Python callables.\n",
    "\n",
    "## 1.2 Distributions\n",
    "\n",
    "An important class of models (stochastic functions) used explicitly to compute the probability of the outputs given the inputs. Pyro use [**torch.distributions**](https://pytorch.org/docs/master/distributions.html) which contains parameterizable probability distributions and sampling functions. This allows the construction of stochastic computation graphs and stochastic gradient estimators for optimization. Each probability distributions are equipped with several  methods such as:\n",
    "\n",
    "* **prob()**: $\\log p(\\mathbf{x} \\mid \\theta ^{*})$\n",
    "* **mean**: $\\mathbb{E}_{p(\\mathbf{x} \\mid \\theta ^{*})}[\\mathbf{x}]$\n",
    "* **sample**: $\\mathbf{x}^{*} \\sim  {p(\\mathbf{x} \\mid \\theta ^{*})}$\n",
    "\n",
    "\n",
    "**Example 1**: Let define the unit normal distribution $\\mathcal{N}(0,1)$ and draw  sample $x$ and  compute the log probability according to the distribution."
   ]
  },
  {
   "cell_type": "code",
   "execution_count": 2,
   "metadata": {},
   "outputs": [
    {
     "name": "stdout",
     "output_type": "stream",
     "text": [
      "sample tensor(-1.391)\n",
      "log prob tensor(-1.886)\n"
     ]
    }
   ],
   "source": [
    "mu = 0  \n",
    "sigma = 1 \n",
    "normal=dist.Normal(mu, sigma) \n",
    "x = normal.sample() # draw a sample from N(0,1)\n",
    "print(\"sample\", x)\n",
    "#To compute the log probability according to the distribution\n",
    "print(\"log prob\", normal.log_prob(x)) # score the sample from N(0,1)"
   ]
  },
  {
   "cell_type": "markdown",
   "metadata": {},
   "source": [
    "## Pyro Sample\n",
    "\n",
    "Pyro use **pyro.sample** statement to call stochastic functions or models with a unique name as identifier.  Pyro’s backend uses these names to uniquely identify sample statements and change their behavior at runtime depending on how the enclosing stochastic function is being used. Using smaple Pyro can implement  various manipulations that underlie inference algorithms.\n",
    "\n",
    "**syntax: x = pyro.sample(\"my_sample\", fn (arg1, arg2))**"
   ]
  },
  {
   "cell_type": "code",
   "execution_count": 3,
   "metadata": {},
   "outputs": [
    {
     "name": "stdout",
     "output_type": "stream",
     "text": [
      "tensor(-0.815)\n"
     ]
    }
   ],
   "source": [
    "# Example\n",
    "x = pyro.sample(\"x_sample\", dist.Normal(mu, sigma))\n",
    "print(x)"
   ]
  },
  {
   "cell_type": "markdown",
   "metadata": {},
   "source": [
    "### Simple model\n",
    "\n",
    "Suppose we have a bunch of data with mean power consumption of a TV with three states OFF, or ON. We want to reason about how power consumption of TV interacts with whether it was OFF or ON. The probability of TV to be in ON state is 0.3 and that of OFF state is 0.7. A simple stochastic function (Model) that does that is given by:"
   ]
  },
  {
   "cell_type": "code",
   "execution_count": 4,
   "metadata": {},
   "outputs": [],
   "source": [
    "def tv_model():\n",
    "    tv_state = pyro.sample('ON', dist.Bernoulli(0.3))\n",
    "    tv_state = 'ON' if tv_state.item() == 1.0 else 'OFF'\n",
    "    \n",
    "    mean_power = {'ON': 55.0, 'OFF': 5.0}[tv_state]\n",
    "    scale_power = {'ON': 10., 'OFF': 1.0}[tv_state]\n",
    "    power=pyro.sample('power', dist.Normal(mean_power, scale_power))\n",
    "    return tv_state, power\n",
    "                                                      "
   ]
  },
  {
   "cell_type": "code",
   "execution_count": 5,
   "metadata": {},
   "outputs": [
    {
     "name": "stdout",
     "output_type": "stream",
     "text": [
      "('ON', tensor(64.544))\n",
      "('OFF', tensor(6.292))\n",
      "('OFF', tensor(4.835))\n"
     ]
    }
   ],
   "source": [
    "for _ in range(3):\n",
    "    print(tv_model())"
   ]
  },
  {
   "cell_type": "code",
   "execution_count": 6,
   "metadata": {},
   "outputs": [],
   "source": [
    "power = []\n",
    "state = []\n",
    "for _ in range(1000):\n",
    "    power.append(tv_model()[1].item())\n",
    "    state.append(tv_model()[0])\n",
    "    #print(tv_model())"
   ]
  },
  {
   "cell_type": "code",
   "execution_count": 7,
   "metadata": {},
   "outputs": [
    {
     "data": {
      "image/png": "[encoded data removed]",
      "text/plain": [
       "<Figure size 576x360 with 1 Axes>"
      ]
     },
     "metadata": {
      "needs_background": "light"
     },
     "output_type": "display_data"
    }
   ],
   "source": [
    "fig, ax =  plt.subplots(figsize=(8,5))\n",
    "ax = sns.distplot(power, kde=False)\n",
    "ax.set_xlabel(\"Power $W$\")\n",
    "ax.set_ylabel('Probability density')\n",
    "ax.set_title(\"Power distiribution\")\n",
    "plt.tight_layout()"
   ]
  },
  {
   "cell_type": "markdown",
   "metadata": {},
   "source": [
    "### Universality: Stochastic Recursion, Higher-order Stochastic Functions, and Random Control Flow"
   ]
  },
  {
   "cell_type": "code",
   "execution_count": 8,
   "metadata": {},
   "outputs": [],
   "source": [
    "def power_cost():\n",
    "    state, power = tv_model()\n",
    "    expected_power = 100. if state == 'ON' and power > 10.0 else 0.\n",
    "    scale_power = 10. if state == 'ON' else 1.\n",
    "    cost = pyro.sample('cost', pyro.distributions.Normal(expected_power, scale_power))\n",
    "    return cost"
   ]
  },
  {
   "cell_type": "code",
   "execution_count": 9,
   "metadata": {},
   "outputs": [
    {
     "data": {
      "image/png": "[encoded data removed]",
      "text/plain": [
       "<Figure size 432x288 with 1 Axes>"
      ]
     },
     "metadata": {
      "needs_background": "light"
     },
     "output_type": "display_data"
    }
   ],
   "source": [
    "power = []\n",
    "for _ in range(1000):\n",
    "    power.append(power_cost().item())\n",
    "ax = sns.distplot(power, kde=True)\n",
    "ax.set_xlabel(\"Power $W$\")\n",
    "ax.set_ylabel('Probability density')\n",
    "ax.set_title(\"Power distiribution\")\n",
    "plt.tight_layout()"
   ]
  },
  {
   "cell_type": "code",
   "execution_count": 10,
   "metadata": {},
   "outputs": [],
   "source": [
    "def sleep_model():\n",
    "    # Very likely to feel lazy\n",
    "    feeling_lazy = pyro.sample(\"feeling_lazy\", dist.Bernoulli(0.9))\n",
    "    if feeling_lazy:\n",
    "        # Only going to (possibly) ignore my alarm if I'm feeling lazy\n",
    "        ignore_alarm = pyro.sample(\"ignore_alarm\", dist.Bernoulli(0.8))\n",
    "        # Will sleep more if I ignore my alarm\n",
    "        amount_slept = pyro.sample(\"amount_slept\",\n",
    "                              dist.Normal(8 + 2 * ignore_alarm, 1))\n",
    "    else:\n",
    "        amount_slept = pyro.sample(\"amount_slept\", dist.Normal(6, 1))\n",
    "    return amount_slept"
   ]
  },
  {
   "cell_type": "code",
   "execution_count": 11,
   "metadata": {},
   "outputs": [
    {
     "data": {
      "image/png": "[encoded data removed]",
      "text/plain": [
       "<Figure size 432x288 with 1 Axes>"
      ]
     },
     "metadata": {
      "needs_background": "light"
     },
     "output_type": "display_data"
    }
   ],
   "source": [
    "amount_slept = []\n",
    "for _ in range(1000):\n",
    "    amount_slept.append(sleep_model().item())\n",
    "    #print(tv_model())\n",
    "    \n",
    "ax = sns.distplot(amount_slept, kde=True)\n",
    "ax.set_xlabel(\"Power $W$\")\n",
    "ax.set_ylabel('Probability density')\n",
    "ax.set_title(\"Power distiribution\")\n",
    "plt.tight_layout()"
   ]
  },
  {
   "cell_type": "markdown",
   "metadata": {},
   "source": [
    "On the unconditional sleep model, we could ask a few questions, like:\n",
    "\n",
    "- Joint probability of a sample: what is the probability that feeling_lazy = 1, ignore_alarm = 0, amount_slept = 10?\n",
    "- Joint probability distribution: what is the probability for any possible assignment to all variables?\n",
    "- Marginal probability of a sample: what is the probability that feeling_lazy is true?\n",
    "- Marginal probability distribution: what is the probability over all values of amount_slept?"
   ]
  },
  {
   "cell_type": "markdown",
   "metadata": {},
   "source": [
    "## Traces and conditioning\n",
    "\n",
    "Poutine is a library of composable effect handlers for recording and modifying the behavior of Pyro programs. These lower-level ingredients simplify the implementation of new inference algorithms and behavior.\n",
    "\n",
    "**Trace**: Return a handler that records the inputs and outputs of primitive calls and their dependencies.\n",
    "\n",
    "We can record its execution using trace and use the resulting data structure to compute the log-joint probability of all of the sample sites in the execution or extract all parameters."
   ]
  },
  {
   "cell_type": "code",
   "execution_count": 12,
   "metadata": {},
   "outputs": [
    {
     "name": "stdout",
     "output_type": "stream",
     "text": [
      "{'amount_slept': {'prob': tensor(0.108), 'value': tensor(7.615)},\n",
      " 'feeling_lazy': {'prob': tensor(0.100), 'value': tensor(0.)}}\n"
     ]
    }
   ],
   "source": [
    "from pyro.poutine import trace\n",
    "from pprint import pprint\n",
    "\n",
    "\n",
    "tr = trace(sleep_model).get_trace()\n",
    "\n",
    "\n",
    "pprint({\n",
    "    name: {\n",
    "        'value': props['value'],\n",
    "        'prob': props['fn'].log_prob(props['value']).exp()\n",
    "    }\n",
    "    for (name, props) in tr.nodes.items()\n",
    "    if props['type'] == 'sample'\n",
    "})"
   ]
  },
  {
   "cell_type": "code",
   "execution_count": 13,
   "metadata": {},
   "outputs": [
    {
     "name": "stdout",
     "output_type": "stream",
     "text": [
      "tensor(0.011)\n"
     ]
    }
   ],
   "source": [
    "print(tr.log_prob_sum().exp())"
   ]
  },
  {
   "cell_type": "markdown",
   "metadata": {},
   "source": [
    "Here, the trace feature will collect values every time they are sampled with sample and store them with the corresponding string name (that’s why we give each sample a name). With a little cleanup, we can print out the value and probability of each random variable’s value, along with the joint probability of the entire trace."
   ]
  },
  {
   "cell_type": "markdown",
   "metadata": {},
   "source": [
    "The code above randomly generates a trace and shows its probability, but we want to compute the probability of a pre-selected set of values. For that, we can use condition:"
   ]
  },
  {
   "cell_type": "code",
   "execution_count": 14,
   "metadata": {},
   "outputs": [
    {
     "data": {
      "text/plain": [
       "tensor(0.010)"
      ]
     },
     "execution_count": 14,
     "metadata": {},
     "output_type": "execute_result"
    }
   ],
   "source": [
    "from pyro import condition\n",
    "\n",
    "cond_model = condition(sleep_model, {\n",
    "    \"feeling_lazy\": torch.tensor(1.),\n",
    "    \"ignore_alarm\": torch.tensor(0.),\n",
    "    \"amount_slept\": torch.tensor(10.)\n",
    "})\n",
    "\n",
    "trace(cond_model).get_trace().log_prob_sum().exp() "
   ]
  },
  {
   "cell_type": "markdown",
   "metadata": {},
   "source": [
    "Here, condition means “force the sample to return the provided value, and compute the trace probability as if that value was sampled."
   ]
  },
  {
   "cell_type": "markdown",
   "metadata": {},
   "source": [
    "Inuitively, this particular choice should have low probability because if we didn’t ignore our alarm, then amount_slept should be closer to 8, not 10. That’s reflected in the low joint probability of 0.010."
   ]
  },
  {
   "cell_type": "markdown",
   "metadata": {},
   "source": [
    "Now, we can produce an approximate answer to any of our questions above by sampling from the distribution enough times. For example, we can look at the marginal distribution over each variable:"
   ]
  },
  {
   "cell_type": "code",
   "execution_count": 15,
   "metadata": {},
   "outputs": [],
   "source": [
    "traces = []\n",
    "for _ in range(1000):\n",
    "    tr = trace(sleep_model).get_trace()\n",
    "    values = {\n",
    "        name: props['value'].item()\n",
    "        for (name, props) in tr.nodes.items()\n",
    "        if props['type'] == 'sample'\n",
    "    }\n",
    "    traces.append(values)\n",
    "\n",
    "df = pd.DataFrame(traces)"
   ]
  },
  {
   "cell_type": "code",
   "execution_count": 18,
   "metadata": {},
   "outputs": [
    {
     "data": {
      "image/png": "[encoded data removed]",
      "text/plain": [
       "<Figure size 864x360 with 3 Axes>"
      ]
     },
     "metadata": {
      "needs_background": "light"
     },
     "output_type": "display_data"
    }
   ],
   "source": [
    "fig, axs = plt.subplots(ncols=3, figsize=(12,5))\n",
    "sns.distplot(df['feeling_lazy'], ax=axs[0], kde=False)\n",
    "sns.distplot(df['ignore_alarm'], ax=axs[1], kde=False)\n",
    "sns.distplot(df['amount_slept'], ax=axs[2], kde=False)\n",
    "axs[0].set(ylabel=\"Density\", title=\"Feeling lazy\")\n",
    "axs[1].set(ylabel=\"Density\", title=\"Ignore alarm\");\n",
    "axs[2].set(ylabel=\"Density\", title=\"Sleep hours\");\n",
    "plt.tight_layout()"
   ]
  },
  {
   "cell_type": "markdown",
   "metadata": {},
   "source": [
    "Look at each histogram and see if its distribution matches your expectations given the code for sleep_model. For example, the feeling_lazy histogram is true (or 1) about 90% of the time, which matches the prior belief Bernoulli(0.9)."
   ]
  },
  {
   "cell_type": "markdown",
   "metadata": {},
   "source": [
    "### Sampling conditional distributions\n",
    "Here’s a few more questions we might want to answer.\n",
    "\n",
    "- Given I slept 6 hours, what is the probability I was feeling lazy?\n",
    "- What is the probability of me sleeping exactly 7.65 hours?\n",
    "\n",
    "These are conditional probability questions, meaning they ask: given a particular value of some of the random variables, what are the likely values for the other random variables? \n",
    "\n",
    "A common use case for generative models is that the generated object is the thing you observe in the real world (like an image), and you want to guess the values of unobserved variables given that observation (like whether the image is a cat or a dog).\n",
    "\n",
    "Considering the first question a smart watch can probably record my sleep patterns, but not record whether I was being lazy. So in the sleep model, we could say amount_slept is an observed random variable while feeling_lazy and ignore_alarm are latent random variables. Applying some basic probability theory, we can write out the quantity we want to compute:\n",
    "\n",
    "\\begin{align*}\n",
    "P(\\text{feeling lazy} = T \\mid \\text{amount slept} = 6) \n",
    "=&\\frac{P(\\text{feeling lazy} = T, \\text{amount slept} = 6)}{P(\\text{amount slept} = 6)} \\\\\n",
    "=&\\frac{\\sum_{ia \\in \\{T, F\\}} P(\\text{feeling lazy} = T, \\text{amount slept} = 6, \\text{ignore alarm} = ia)}{\\sum_{(ia, fl) \\in \\{T, F\\}^2} P(\\text{feeling lazy} = fl, \\text{amount slept} = 6, \\text{ignore alarm} = ia)}\n",
    "\\end{align*}"
   ]
  },
  {
   "cell_type": "markdown",
   "metadata": {},
   "source": [
    "To create a basic importance sampler over execution traces (using the prior as the proposal distribution), we can write:"
   ]
  },
  {
   "cell_type": "markdown",
   "metadata": {},
   "source": [
    "## Approximate inference\n",
    "\n",
    "### Grid approximation\n",
    "Let’s say I have an extremely simple model that just samples a normal distribution with fixed parameters:"
   ]
  },
  {
   "cell_type": "code",
   "execution_count": 23,
   "metadata": {},
   "outputs": [],
   "source": [
    "def model():\n",
    "    mu = pyro.param(\"mu\", torch.tensor(0.))\n",
    "    return pyro.sample(\"x\", dist.Normal(mu, 1))"
   ]
  },
  {
   "cell_type": "markdown",
   "metadata": {},
   "source": [
    "However, let’s say we know the value of x = 5 and I want to find a mean $\\mu$ to the normal distribution that maximizes the probability of seeing that x"
   ]
  },
  {
   "cell_type": "code",
   "execution_count": 26,
   "metadata": {},
   "outputs": [
    {
     "data": {
      "image/png": "[encoded data removed]",
      "text/plain": [
       "<Figure size 432x288 with 2 Axes>"
      ]
     },
     "metadata": {
      "needs_background": "light"
     },
     "output_type": "display_data"
    }
   ],
   "source": [
    "pyro.clear_param_store()\n",
    "model() # Instantiate the mu parameter\n",
    "cond_model = condition(model, {\"x\": 5})\n",
    "\n",
    "# Large learning rate for demonstration purposes\n",
    "optimizer = torch.optim.Adam([pyro.param(\"mu\")], lr=0.01)\n",
    "mus = []\n",
    "losses = []\n",
    "for _ in range(3000):\n",
    "    tr = trace(cond_model).get_trace()\n",
    "\n",
    "    # Optimizer wants to push positive values towards zero,\n",
    "    # so use negative log probability\n",
    "    prob = -tr.log_prob_sum()\n",
    "    prob.backward()\n",
    "\n",
    "    # Update parameters according to optimization strategy\n",
    "    optimizer.step()\n",
    "\n",
    "    # Zero all parameter gradients so they don't accumulate\n",
    "    optimizer.zero_grad()\n",
    "\n",
    "    # Record probability (or \"loss\") along with current mu\n",
    "    losses.append(prob.item())\n",
    "    mus.append(pyro.param(\"mu\").item())\n",
    "\n",
    "df=pd.DataFrame({\"mu\": mus, \"loss\": losses})\n",
    "df.plot(subplots=True);"
   ]
  },
  {
   "cell_type": "code",
   "execution_count": 37,
   "metadata": {},
   "outputs": [
    {
     "data": {
      "text/plain": [
       "tensor(5.000)"
      ]
     },
     "execution_count": 37,
     "metadata": {},
     "output_type": "execute_result"
    }
   ],
   "source": [
    "mu=df[df.loss==df.loss.min()][\"mu\"].values[-1]\n",
    "dist.Normal(mu, 0).sample()"
   ]
  },
  {
   "cell_type": "markdown",
   "metadata": {},
   "source": [
    "We have implemented maximum likelihood learning, meaning we used optimization to find parameters that maximize the  probability of data under our model. \n",
    "\n",
    "However, our goal was specifically to estimate the posterior distribution over unobserved (latent) variables. For example, returning to the sleep_model, let’s say we want to know the distribution over feeling_lazy and ignore_alarm if amount_slept = 6."
   ]
  },
  {
   "cell_type": "markdown",
   "metadata": {},
   "source": [
    "let’s say we want to know the distribution over feeling_lazy and ignore_alarm if amount_slept = 6. Intuitively, although their prior likelihood is high, that amount of sleep is much more likely explained by not feeling lazy, so we would "
   ]
  },
  {
   "cell_type": "markdown",
   "metadata": {},
   "source": [
    "### Guide"
   ]
  },
  {
   "cell_type": "markdown",
   "metadata": {},
   "source": [
    "The guide is a stochastic function that represents a probability distribution over the latent (unobserved) variables. For example, this is a valid guide:\n",
    "Given I slept 6 hours, what is the probability I was feeling lazy?"
   ]
  },
  {
   "cell_type": "code",
   "execution_count": 44,
   "metadata": {},
   "outputs": [],
   "source": [
    "def sleep_guide():\n",
    "    pyro.sample(\"feeling_lazy\", dist.Delta(torch.tensor(1.0)))\n",
    "    pyro.sample(\"ignore_alarm\", dist.Delta(torch.tensor(0.)))"
   ]
  },
  {
   "cell_type": "code",
   "execution_count": 49,
   "metadata": {},
   "outputs": [
    {
     "data": {
      "text/plain": [
       "tensor(1.)"
      ]
     },
     "execution_count": 49,
     "metadata": {},
     "output_type": "execute_result"
    }
   ],
   "source": [
    "#Traces are directed graphs whose nodes represent primitive calls or input/output, and whose edges represent conditional dependence relationships between those primitive calls. \n",
    "\n",
    "trace(sleep_guide).get_trace().nodes['feeling_lazy']['value']"
   ]
  },
  {
   "cell_type": "code",
   "execution_count": 50,
   "metadata": {},
   "outputs": [],
   "source": [
    "# Condition model on observed data\n",
    "underslept_model = condition(sleep_model, {\"amount_slept\": 6.})"
   ]
  },
  {
   "cell_type": "code",
   "execution_count": 62,
   "metadata": {},
   "outputs": [],
   "source": [
    "def elbo(guide, cond_model):\n",
    "    dist = 0.\n",
    "    for fl in [0., 1.]:\n",
    "        for ia in [0., 1.] if fl == 1. else [0.]:\n",
    "            log_prob = lambda f: trace(condition(\n",
    "                f, {\"feeling_lazy\": torch.tensor(fl), \"ignore_alarm\": torch.tensor(ia)})) \\\n",
    "                .get_trace().log_prob_sum()\n",
    "            guide_prob = log_prob(guide)\n",
    "            cond_model_prob = log_prob(cond_model)\n",
    "            term = guide_prob.exp() * (cond_model_prob - guide_prob)\n",
    "            if not torch.isnan(term):\n",
    "                dist += term\n",
    "    return dist\n",
    "\n"
   ]
  },
  {
   "cell_type": "code",
   "execution_count": 64,
   "metadata": {},
   "outputs": [
    {
     "data": {
      "image/png": "[encoded data removed]",
      "text/plain": [
       "<Figure size 432x288 with 2 Axes>"
      ]
     },
     "metadata": {
      "needs_background": "light"
     },
     "output_type": "display_data"
    }
   ],
   "source": [
    "from torch.distributions import constraints\n",
    "pyro.clear_param_store()\n",
    "\n",
    "def sleep_guide():\n",
    "    # Constraints ensure facts always remain true during optimization,\n",
    "    # e.g. that the parameter of a Bernoulli is always between 0 and 1\n",
    "    valid_prob = constraints.interval(0., 1.)\n",
    "    fl_p = pyro.param('fl_p', torch.tensor(0.8), constraint=valid_prob)\n",
    "    ia_p = pyro.param('ia_p', torch.tensor(0.9), constraint=valid_prob)\n",
    "    feeling_lazy = pyro.sample('feeling_lazy', dist.Bernoulli(fl_p))\n",
    "\n",
    "    # Consistent with the model, we only sample ignore_alarm if\n",
    "    # feeling_lazy is true\n",
    "    if feeling_lazy == 1.:\n",
    "        pyro.sample('ignore_alarm', dist.Bernoulli(ia_p))\n",
    "sleep_guide()\n",
    "\n",
    "adam = torch.optim.Adam([pyro.param('fl_p').unconstrained(), pyro.param('ia_p').unconstrained()],\n",
    "            lr=0.005, betas=(0.90, 0.999))\n",
    "param_vals = []\n",
    "\n",
    "for _ in range(2000):\n",
    "    # We can use our elbo function from earlier and compute its gradient\n",
    "    loss = -elbo(sleep_guide, underslept_model)\n",
    "    loss.backward()\n",
    "\n",
    "    adam.step()\n",
    "    adam.zero_grad()\n",
    "\n",
    "    param_vals.append({k: pyro.param(k).item() for k in ['fl_p', 'ia_p']})\n",
    "\n",
    "df=pd.DataFrame(param_vals)\n",
    "df.plot(subplots=True);"
   ]
  },
  {
   "cell_type": "code",
   "execution_count": 66,
   "metadata": {},
   "outputs": [
    {
     "data": {
      "text/plain": [
       "6.0"
      ]
     },
     "execution_count": 66,
     "metadata": {},
     "output_type": "execute_result"
    }
   ],
   "source": [
    "underslept_model()"
   ]
  },
  {
   "cell_type": "markdown",
   "metadata": {},
   "source": [
    "### Example\n",
    "\n",
    "Suppose you have a globe representing our planet, the Earth. This version of the world\n",
    "is small enough to hold in your hands. You are curious how much of the surface is covered\n",
    "in water. You adopt the following strategy: You will toss the globe up in the air. When you\n",
    "catch it, you will record whether or not the surface under your right index finger is water or\n",
    "land. Then you toss the globe up in the air again and repeat the procedure. This strategy\n",
    "generates a sequence of surface samples from the globe.\n",
    "\n",
    "$$WWLWLWLLWWWL$$\n",
    "\n",
    "Let assume that:\n",
    "1. The true proportion of water covering the globe is $p$\n",
    "2. A single toss of the globe has a probability p of producing a water (W) observation. It has a probability $1 − p$ of producing a land (L) observation.\n",
    "3. Each toss of the globe is independent of the others."
   ]
  },
  {
   "cell_type": "markdown",
   "metadata": {},
   "source": [
    "### Probabilistic model"
   ]
  },
  {
   "cell_type": "markdown",
   "metadata": {},
   "source": [
    "#### Components\n",
    "1. Observable varibales: the counts of water $N_W$ and land $N_L$ such that $N = N_W + N_L$\n",
    "2. Non obervable variables (parameters):the proportion of water on the glob $p$\n",
    "3. Likelihood: $p^{N_W}(1-p)^{N_L}$\n",
    "4. Prior distribution which is the probability of paratemeter availabe beforehand, and before making any additional observations let assume uniform prior between 0 and 1.\n",
    "\n",
    "Our model:\n",
    "\n",
    "$$W \\sim Binomial(N, p)$$\n",
    "\n",
    "$$ p \\sim Uniform(0,1)$$"
   ]
  },
  {
   "cell_type": "markdown",
   "metadata": {},
   "source": [
    "The joint probability of the data W and L and any particular value of p is\n",
    "\n",
    "$$P(W, L, p) = P(W, L|p)\\cdot P(p)$$\n",
    "\n",
    "\n",
    "The posterior probability:the probability of any particular value of p, consid-\n",
    "ering the data\n",
    "\n",
    "$$P(p|W,L) = \\frac{P(W, L|p)\\cdot P(p)}{P(W,L)}$$"
   ]
  },
  {
   "cell_type": "markdown",
   "metadata": {},
   "source": [
    "Suppose we observe six water after 10 counts. What is the fraction of surfcae covered by water."
   ]
  },
  {
   "cell_type": "code",
   "execution_count": 67,
   "metadata": {},
   "outputs": [],
   "source": [
    "def model(w, n=9):\n",
    "    p = pyro.sample(\"p\", dist.Uniform(0, 1))  # uniform prior\n",
    "    pyro.sample(\"w\", dist.Binomial(n, p), obs=w)  # binomial likelihood"
   ]
  },
  {
   "cell_type": "code",
   "execution_count": 68,
   "metadata": {},
   "outputs": [
    {
     "data": {
      "text/plain": [
       "tensor(-2.584)"
      ]
     },
     "execution_count": 68,
     "metadata": {},
     "output_type": "execute_result"
    }
   ],
   "source": [
    "trace(model).get_trace(torch.tensor(6.))\n",
    "tr.log_prob_sum()"
   ]
  },
  {
   "cell_type": "code",
   "execution_count": 69,
   "metadata": {},
   "outputs": [],
   "source": [
    "# find good initial trace\n",
    "model_trace = trace(model).get_trace(torch.tensor(6.0))\n",
    "best_log_prob = model_trace.log_prob_sum()\n",
    "for i in range(10):\n",
    "    trc = trace(model).get_trace(torch.tensor(6.0))\n",
    "    log_prob = trc.log_prob_sum()\n",
    "    if log_prob > best_log_prob:\n",
    "        best_log_prob = log_prob\n",
    "        model_trace = trc"
   ]
  },
  {
   "cell_type": "code",
   "execution_count": 73,
   "metadata": {},
   "outputs": [
    {
     "data": {
      "text/plain": [
       "{'params': {}, 'constraints': {}}"
      ]
     },
     "execution_count": 73,
     "metadata": {},
     "output_type": "execute_result"
    }
   ],
   "source": [
    "model_trace = pyro.poutine.util.prune_subsample_sites(model_trace)\n",
    "prior, unpacked = {}, {}\n",
    "param_constraints = pyro.get_param_store().get_state()['constraints']\n",
    "param_constraints"
   ]
  },
  {
   "cell_type": "code",
   "execution_count": null,
   "metadata": {},
   "outputs": [],
   "source": [
    "def grid_approximation(steps=20, W=6.0, N=10):\n",
    "    # define grid\n",
    "    p_grid = torch.linspace(start=0, end=1, steps=steps)\n",
    "\n",
    "    # define prior\n",
    "    pr = torch.tensor(1.).repeat(steps)\n",
    "\n",
    "    # compute likelihood at each value in grid\n",
    "    likelihood = dist.Binomial(total_count=N,\n",
    "                               probs=p_grid).log_prob(torch.tensor(W)).exp()\n",
    "\n",
    "    # compute product of likelihood and prior\n",
    "    unstd_posterior = likelihood * pr\n",
    "\n",
    "    # standardize the posterior, so it sums to 1\n",
    "    posterior = unstd_posterior / unstd_posterior.sum()\n",
    "    \n",
    "    return p_grid, posterior"
   ]
  },
  {
   "cell_type": "code",
   "execution_count": null,
   "metadata": {},
   "outputs": [],
   "source": [
    "fig, axs = plt.subplots(ncols=3, sharey=True, figsize=(8,4))\n",
    "for i, W in enumerate([2,5,8]):\n",
    "    p_grid, posterior = grid_approximation(steps=20, W=float(W), N=10.)\n",
    "    sns.lineplot(p_grid, posterior, marker=\"o\", ax=axs[i])\n",
    "    axs[i].set(xlabel=\"$p$\", ylabel=\"posterior probability\", title=f\"{W} observation\");"
   ]
  },
  {
   "cell_type": "markdown",
   "metadata": {},
   "source": [
    "## 2.2 Representing Marginal Distributions\n",
    "Before using our model to estimate  appliance power consumption let’s  analyzing our model’s behavior.Using importance sampling we can simulate the marginal distribution of measurement values we’d expect to see a priori for a given guess.\n",
    "\n",
    "To do this using marginalization (**pyro.infer.impericalMarginal**) we need to follow the follwing two steps\n",
    "- collect a number of weighted execution traces of the model through sampling using **Importance sampler**.\n",
    "- collapse those traces into a histogram over possible return values given a particular set of arguments."
   ]
  },
  {
   "cell_type": "markdown",
   "metadata": {},
   "source": [
    "To create a basic importance sampler over execution traces (using the prior as the proposal distribution), we can write:"
   ]
  },
  {
   "cell_type": "code",
   "execution_count": null,
   "metadata": {},
   "outputs": [],
   "source": [
    "posterior = pyro.infer.Importance(tv_model, num_samples=1000)"
   ]
  },
  {
   "cell_type": "markdown",
   "metadata": {},
   "source": [
    "The output of posterior is computed with posterior.run, which runs inference for a single input value. To collapse those traces into a histogram"
   ]
  },
  {
   "cell_type": "code",
   "execution_count": null,
   "metadata": {},
   "outputs": [],
   "source": [
    "mean_on_power = 50\n",
    "marginal = pyro.infer.EmpiricalMarginal(posterior.run(mean_on_power))"
   ]
  },
  {
   "cell_type": "code",
   "execution_count": null,
   "metadata": {},
   "outputs": [],
   "source": [
    "fig, ax =  plt.subplots()\n",
    "ax.hist([marginal().item() for _ in range(1000)], range=(0, 80.0), bins=30, color=\"C0\");\n",
    "ax.set_xlabel(\"Power $W$\")\n",
    "ax.set_title('$P(measurement |guess)$')\n",
    "ax.set_ylabel(\"Number\")\n",
    "#format_histogram(ax)"
   ]
  },
  {
   "cell_type": "markdown",
   "metadata": {},
   "source": [
    "### 2.3 Conditioning Models on Data\n",
    "\n",
    "With probabilistic programming is possible to condition generative models on observed data and infer the latent factors that might have produced that data. In Pyro, the expression of conditioning  model is  separated from its evaluation via inference. This  make it possible to write a model once and condition it on many different observations.\n",
    "\n",
    "Suppose we want to sample from the marginal distribution of power given input guess = 60, but now we have observed that measurement is 78. \n",
    "\n",
    "Using  **pyro.condition** function we can constrain the values of sample statements. This is a higher-order function that takes a model and a dictionary of data and returns a new model that has the same input and output signatures but always uses the given values at observed sample statements:"
   ]
  },
  {
   "cell_type": "code",
   "execution_count": null,
   "metadata": {},
   "outputs": [],
   "source": [
    "conditioned_monitor = pyro.condition(monitor, data={\"measurement\": 75})\n"
   ]
  },
  {
   "cell_type": "markdown",
   "metadata": {},
   "source": [
    "Because it behaves just like an ordinary Python function, conditioning can be deferred or parametrized with Python’s lambda or def:"
   ]
  },
  {
   "cell_type": "code",
   "execution_count": null,
   "metadata": {},
   "outputs": [],
   "source": [
    "def deferred_conditioned_monitor(measurement, *args, **kwargs):\n",
    "    return pyro.condition(monitor, data={\"measurement\": measurement})(*args, **kwargs)\n"
   ]
  },
  {
   "cell_type": "markdown",
   "metadata": {},
   "source": [
    "It also possible to pass observations directly to individual **pyro.sample** statements instead of using **pyro.condition**. The optional **obs** keyword argument is reserved by pyro.sample for that purpose:\n",
    "\n",
    "```python\n",
    " pyro.sample(\"measurement\", dist.Normal(power, 1.), obs=75)\n",
    "```\n",
    "However, hardcoding is not usually recommended due to its invasive non-compositional nature."
   ]
  },
  {
   "cell_type": "markdown",
   "metadata": {},
   "source": [
    "In addition to **pyro.condition** for incorporating observations, Pyro also contains **pyro.do**, that is used for causal inference with an identical interface to **pyro.condition**. These two function can be mixed and composed freely, making Pyro a powerful tool for model-based causal inference."
   ]
  },
  {
   "cell_type": "markdown",
   "metadata": {},
   "source": [
    "We can use the conditioned model to estimate the distribution over power given guess and measurement == data as follows."
   ]
  },
  {
   "cell_type": "code",
   "execution_count": null,
   "metadata": {},
   "outputs": [],
   "source": [
    "guess = 65.\n",
    "measurement = 75.\n",
    "\n",
    "conditioned_scale = pyro.condition(monitor, data={\"measurement\": measurement})\n",
    "marginal = pyro.infer.EmpiricalMarginal(pyro.infer.Importance(conditioned_scale, num_samples=100).run(guess), sites=\"power\")\n",
    "\n",
    "fig, ax =  plt.subplots()\n",
    "ax.hist([marginal().item() for _ in range(100)], range=(50, 70.0), bins=30, color=\"C0\");\n",
    "ax.set_xlabel(\"Power $W$\")\n",
    "ax.set_title('$P(measurement |guess)$')\n",
    "ax.set_ylabel(\"Number\")\n",
    "format_histogram(ax)\n"
   ]
  },
  {
   "cell_type": "markdown",
   "metadata": {},
   "source": [
    "However, this approach is extremely computationally inefficient because the prior distribution over power may be very far from the true distribution over power, especially if our initial guess is not very good."
   ]
  },
  {
   "cell_type": "markdown",
   "metadata": {},
   "source": [
    "## 2.4 Guide function"
   ]
  },
  {
   "cell_type": "markdown",
   "metadata": {},
   "source": [
    "Some inference algorithms in Pyro, like **pyro.infer.Importance** and **pyro.infer.SVI**, allow us to use arbitrary stochastic functions, which we will call guide functions or **guides**, as approximate posterior distributions. \n",
    "\n",
    "Guide functions have to satisfy the following two criteria to be valid approximations for a particular model: \n",
    "1. all unobserved sample statements that appear in the model appear in the guide. \n",
    "2. the guide has the same input signature as the model (i.e. takes the same arguments)\n",
    "\n",
    "Guide functions can serve as programmable, data-dependent proposal distributions for importance sampling, rejection sampling, sequential Monte Carlo, MCMC, and independent Metropolis-Hastings, and as variational distributions or inference networks for stochastic variational inference. \n",
    "\n",
    "The current pyro version only implement importance sampling and stochastic variational inference. More algorithms will be addded in the future."
   ]
  },
  {
   "cell_type": "code",
   "execution_count": null,
   "metadata": {},
   "outputs": [],
   "source": [
    "def monitor_posterior_guide(measurement, guess):\n",
    "\n",
    "    a = (guess + torch.sum(measurement)) / (measurement.size(0) + 1.0)\n",
    "    b = 1. / (measurement.size(0) + 1.0)\n",
    "    return pyro.sample(\"power\", dist.Normal(a, b))\n",
    "\n",
    "posterior = pyro.infer.Importance(deferred_conditioned_monitor,\n",
    "                                  guide=monitor_posterior_guide,\n",
    "                                  num_samples=20)\n",
    "\n",
    "marginal = pyro.infer.EmpiricalMarginal(posterior.run(torch.tensor([measurement]), guess), sites=\"power\")\n",
    "fig, ax =  plt.subplots()\n",
    "ax.hist([marginal().item() for _ in range(100)], range=(50, 70.0), bins=30, color=\"C0\");\n",
    "ax.set_xlabel(\"Power $W$\")\n",
    "ax.set_title('$P(measurement |guess)$')\n",
    "ax.set_ylabel(\"Number\")\n",
    "format_histogram(ax)"
   ]
  },
  {
   "cell_type": "markdown",
   "metadata": {},
   "source": [
    "## Parametrized Stochastic Functions and Variational Inference"
   ]
  },
  {
   "cell_type": "markdown",
   "metadata": {},
   "source": [
    "It is intractable to specify a guide that is a good approximation to the posterior distribution of an arbitrary conditioned stochastic function. What we can do instead is use the top-level function **pyro.param** to specify a family of guides indexed by named parameters, and search for the member of that family that is the best approximation. This approach to approximate posterior inference is called **variational inference**.\n",
    "\n",
    " Like pyro.sample, pyro.param is always called with a name as its first argument. For example, we can parametrize a and b in monitor_posterior_guide instead of specifying them by hand:"
   ]
  },
  {
   "cell_type": "code",
   "execution_count": null,
   "metadata": {},
   "outputs": [],
   "source": [
    "def monitor_parametrized_guide(guess):\n",
    "    a = pyro.param(\"a\", torch.tensor(torch.randn(1) + guess))\n",
    "    b = pyro.param(\"b\", torch.randn(1))\n",
    "    return pyro.sample(\"power\", dist.Normal(a, torch.abs(b)))\n"
   ]
  },
  {
   "cell_type": "markdown",
   "metadata": {},
   "source": [
    "Pyro is built to enable stochastic variational inference, a powerful and widely applicable class of variational inference algorithms with three key characteristics:\n",
    "\n",
    "1. Parameters are always real-valued tensors\n",
    "2. We compute Monte Carlo estimates of a loss function from samples of execution histories of the model and guide\n",
    "3. We use stochastic gradient descent to search for the optimal parameters.\n"
   ]
  },
  {
   "cell_type": "code",
   "execution_count": null,
   "metadata": {},
   "outputs": [],
   "source": [
    "pyro.clear_param_store()\n",
    "svi = pyro.infer.SVI(model=conditioned_monitor,\n",
    "                     guide=monitor_parametrized_guide,\n",
    "                     optim=pyro.optim.SGD({\"lr\": 0.001}),\n",
    "                     loss=pyro.infer.Trace_ELBO())\n",
    "\n",
    "losses = []\n",
    "for t in range(1000):\n",
    "    losses.append(svi.step(guess))\n"
   ]
  },
  {
   "cell_type": "code",
   "execution_count": null,
   "metadata": {},
   "outputs": [],
   "source": [
    "plt.plot(losses)\n",
    "plt.title(\"ELBO\")\n",
    "plt.xlabel(\"step\")\n",
    "plt.ylabel(\"loss\");\n"
   ]
  },
  {
   "cell_type": "markdown",
   "metadata": {},
   "source": [
    "The optimization will update the guide parameters, but does not produce a posterior distribution object itself. Once we find good parameter values, we can just use the guide as a representation of the model’s approximate posterior for downstream tasks.\n",
    "\n",
    "For example, we can use the optimized guide as an importance distribution for estimating the marginal distribution over power with many fewer samples than the prior:"
   ]
  },
  {
   "cell_type": "code",
   "execution_count": null,
   "metadata": {},
   "outputs": [],
   "source": [
    "posterior = pyro.infer.Importance(conditioned_monitor, monitor_parametrized_guide, num_samples=10)\n",
    "marginal = pyro.infer.EmpiricalMarginal(posterior.run(guess), sites=\"power\")\n",
    "fig, ax =  plt.subplots()\n",
    "ax.hist([marginal().item() for _ in range(100)], range=(60, 70.0), bins=30, color=\"C0\");\n",
    "ax.set_xlabel(\"Power $W$\")\n",
    "ax.set_title('$P(measurement |guess)$')\n",
    "ax.set_ylabel(\"Number\")\n",
    "format_histogram(ax)"
   ]
  },
  {
   "cell_type": "code",
   "execution_count": null,
   "metadata": {},
   "outputs": [],
   "source": [
    "fig, ax =  plt.subplots()\n",
    "ax.hist([monitor_parametrized_guide(guess).item() for _ in range(100)], range=(60.0, 80.0), bins=30, color=\"C0\");\n",
    "ax.set_xlabel(\"Power $W$\")\n",
    "ax.set_title('$P(measurement |guess)$')\n",
    "ax.set_ylabel(\"Number\")\n",
    "format_histogram(ax)\n"
   ]
  },
  {
   "cell_type": "markdown",
   "metadata": {},
   "source": [
    "### SMS"
   ]
  },
  {
   "cell_type": "code",
   "execution_count": null,
   "metadata": {},
   "outputs": [],
   "source": [
    "figsize(12.5, 3.5)\n",
    "count_data = np.loadtxt(\"../data/sms.csv\")\n",
    "n_count_data = len(count_data)\n",
    "plt.bar(np.arange(n_count_data), count_data, color=\"#348ABD\")\n",
    "plt.xlabel(\"Time (days)\")\n",
    "plt.ylabel(\"count of text-msgs received\")\n",
    "plt.title(\"Did the user's texting habits change over time?\")\n",
    "plt.xlim(0, n_count_data);"
   ]
  },
  {
   "cell_type": "code",
   "execution_count": null,
   "metadata": {},
   "outputs": [],
   "source": [
    "alpha_f = 1.0 / count_data.mean()\n",
    "alpha = torch.tensor(alpha_f)"
   ]
  },
  {
   "cell_type": "code",
   "execution_count": null,
   "metadata": {},
   "outputs": [],
   "source": [
    "def intensity_function(i, switch_point, mu1, mu2, sigma1, sigma2):\n",
    "    sigmoid = torch.sigmoid(float(i) - switch_point)\n",
    "    mu = (1.0 - sigmoid) * mu1 + mu2 * sigmoid                \n",
    "    sigma = (1.0 - sigmoid) * sigma1 + sigma2 * sigmoid\n",
    "    return mu, sigma"
   ]
  },
  {
   "cell_type": "code",
   "execution_count": null,
   "metadata": {},
   "outputs": [],
   "source": [
    "def model():\n",
    "    mu1 = pyro.sample(\"mu1\", dist.Exponential(alpha))\n",
    "    sigma1 = pyro.sample(\"sigma1\", dist.Exponential(torch.tensor(0.1)))\n",
    "    mu2 = pyro.sample(\"mu2\", dist.Exponential(alpha))\n",
    "    sigma2 = pyro.sample(\"sigma2\", dist.Exponential(torch.tensor(0.1)))\n",
    "\n",
    "    switch_point = pyro.sample(\"switch_point\", dist.Beta(torch.tensor(10.), torch.tensor(10.))) * torch.tensor(float(len(count_data)))\n",
    "    \n",
    "    for i in range(len(count_data)):\n",
    "        mu_i, sigma_i = intensity_function(i, switch_point, mu1, mu2, sigma1, sigma2)\n",
    "        pyro.sample(\"obs_{}\".format(i), dist.Normal(mu_i, sigma_i), obs=torch.tensor(count_data[i])) \n",
    "        \n",
    "        \n",
    "def guide(count_data):\n",
    "   \n",
    "    switch_probs = pyro.param(\"switch_probs\", torch.ones(1 + len(count_data)) / (1 + len(count_data)),\n",
    "                              constraint=constraints.simplex)\n",
    "    pyro.sample(\"switch_point\", dist.Categorical(switch_probs),\n",
    "                infer={'enumerate': 'parallel'})"
   ]
  },
  {
   "cell_type": "code",
   "execution_count": 93,
   "metadata": {},
   "outputs": [
    {
     "data": {
      "text/plain": [
       "tensor([0., 0., 0., 0., 0., 0., 0., 0., 0., 1., 1., 1., 1., 1., 1., 1., 2., 2.,\n",
       "        2., 2.])"
      ]
     },
     "execution_count": 93,
     "metadata": {},
     "output_type": "execute_result"
    }
   ],
   "source": [
    "data = torch.cat((torch.zeros(9), torch.ones(7), torch.empty(4).fill_(2.)))\n",
    "data"
   ]
  },
  {
   "cell_type": "code",
   "execution_count": 89,
   "metadata": {},
   "outputs": [],
   "source": [
    "def model():\n",
    "    alpha = torch.tensor(6.0)\n",
    "    beta = torch.tensor(10.0)\n",
    "    pay_probs = pyro.sample('pay_probs', dist.Beta(alpha, beta))\n",
    "    return pay_probs"
   ]
  },
  {
   "cell_type": "code",
   "execution_count": 90,
   "metadata": {},
   "outputs": [
    {
     "data": {
      "text/plain": [
       "tensor(1.)"
      ]
     },
     "execution_count": 90,
     "metadata": {},
     "output_type": "execute_result"
    }
   ],
   "source": [
    "normalized_pay_probs"
   ]
  },
  {
   "cell_type": "code",
   "execution_count": 91,
   "metadata": {},
   "outputs": [
    {
     "data": {
      "image/png": "[encoded data removed]",
      "text/plain": [
       "<Figure size 432x288 with 1 Axes>"
      ]
     },
     "metadata": {},
     "output_type": "display_data"
    }
   ],
   "source": [
    "amount_slept = []\n",
    "for _ in range(1000):\n",
    "    amount_slept.append(model().item())\n",
    "    #print(tv_model())\n",
    "    \n",
    "ax = sns.distplot(amount_slept, kde=True)\n",
    "ax.set_xlabel(\"Power $W$\")\n",
    "ax.set_ylabel('Probability density')\n",
    "ax.set_title(\"Power distiribution\")\n",
    "plt.tight_layout()"
   ]
  },
  {
   "cell_type": "code",
   "execution_count": null,
   "metadata": {},
   "outputs": [],
   "source": []
  }
 ],
 "metadata": {
  "kernelspec": {
   "display_name": "Python 3",
   "language": "python",
   "name": "python3"
  },
  "language_info": {
   "codemirror_mode": {
    "name": "ipython",
    "version": 3
   },
   "file_extension": ".py",
   "mimetype": "text/x-python",
   "name": "python",
   "nbconvert_exporter": "python",
   "pygments_lexer": "ipython3",
   "version": "3.7.4"
  },
  "latex_envs": {
   "LaTeX_envs_menu_present": true,
   "autoclose": false,
   "autocomplete": true,
   "bibliofile": "biblio.bib",
   "cite_by": "apalike",
   "current_citInitial": 1,
   "eqLabelWithNumbers": true,
   "eqNumInitial": 1,
   "hotkeys": {
    "equation": "Ctrl-E",
    "itemize": "Ctrl-I"
   },
   "labels_anchors": false,
   "latex_user_defs": false,
   "report_style_numbering": false,
   "user_envs_cfg": false
  }
 },
 "nbformat": 4,
 "nbformat_minor": 2
}
