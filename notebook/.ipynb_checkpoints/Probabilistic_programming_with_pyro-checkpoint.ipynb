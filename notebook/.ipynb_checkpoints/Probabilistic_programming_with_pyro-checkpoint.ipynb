{
 "cells": [
  {
   "cell_type": "code",
   "execution_count": 31,
   "metadata": {},
   "outputs": [],
   "source": [
    "import torch\n",
    "import pyro\n",
    "import pyro.distributions as dist\n",
    "from torch.distributions import constraints\n",
    "import pandas as pd\n",
    "import numpy as np\n",
    "import matplotlib.pyplot as plt\n",
    "import seaborn as sns\n",
    "pyro.set_rng_seed(101)\n",
    "torch.manual_seed(101)\n",
    "torch.set_printoptions(precision=3)\n",
    "%matplotlib inline"
   ]
  },
  {
   "cell_type": "markdown",
   "metadata": {},
   "source": [
    "## 1. Intro to Pyro\n",
    "\n",
    "Pyro is a universal probabilistic programming language (PPL) written in Python and supported by PyTorch on the backend. It enables flexible and expressive deep probabilistic modeling, unifying the best of modern deep learning and Bayesian modeling.\n",
    "\n",
    "### 1.2 Models and Probability distributions\n",
    "**Models** are the basic unit of probabilistic programs in pyro, they represent simplified or abstract descriptions of a process by which data are generated. Models in pyro are expressed as *stochastic functions* which implies that models can be composed, reused, imported, and serialized just like regular Python callables. **Probability distributions** (pimitive stochastic functions) are important class of models (stochastic functions) used explicitly to compute the probability of the outputs given the inputs.  Pyro uses [PyTorch’s distribution library](https://pytorch.org/docs/master/distributions.html) which contains parameterizable probability distributions and sampling functions. This allows the construction of stochastic computation graphs and stochastic gradient estimators for optimization. Each probability distributions are equipped with several  methods such as:\n",
    "\n",
    "* **prob()**: $\\log p(\\mathbf{x} \\mid \\theta ^{*})$\n",
    "* **mean**: $\\mathbb{E}_{p(\\mathbf{x} \\mid \\theta ^{*})}[\\mathbf{x}]$\n",
    "* **sample**: $\\mathbf{x}^{*} \\sim  {p(\\mathbf{x} \\mid \\theta ^{*})}$\n",
    "\n",
    "\n",
    "You can also create custom distributions using [transforms](https://pytorch.org/docs/master/distributions.html#module-torch.distributions.transforms).\n",
    "\n",
    "\n",
    "**Example 1**: Let define the unit normal distribution $\\mathcal{N}(0,1)$, draw  sample $x$ and  compute the log probability according to the distribution."
   ]
  },
  {
   "cell_type": "code",
   "execution_count": 9,
   "metadata": {},
   "outputs": [
    {
     "name": "stdout",
     "output_type": "stream",
     "text": [
      "sample 0.603293240070343\n",
      "prob 0.332565039396286\n"
     ]
    }
   ],
   "source": [
    "mu = 0  \n",
    "sigma = 1 \n",
    "normal=dist.Normal(mu, sigma) \n",
    "x = normal.rsample() # draw a sample from N(1,1)\n",
    "print(\"sample\", x.item())\n",
    "#To compute the log probability according to the distribution\n",
    "print(\"prob\", torch.exp(normal.log_prob(x)).item()) # score the sample from N(1,1)"
   ]
  },
  {
   "cell_type": "markdown",
   "metadata": {},
   "source": [
    "### 1.3 Sample and Param statements\n",
    "Pyro simplifies the process of sampling from distributions with the use of  **pyro.sample** statement. The **pyro.sample** statement  call stochastic functions or models with a *unique name* as identifier. Pyro’s backend uses these names to uniquely identify sample statements and change their behavior at runtime depending on how the enclosing stochastic function is being used. Using **pyro.sample** statement, Pyro can implement  various manipulations that underlie inference algorithms.\n",
    "\n",
    "```python\n",
    "x = pyro.sample(\"name\", fn, obs)\n",
    "\n",
    "\"\"\"\n",
    "name – name of sample\n",
    "fn – distribution class or function\n",
    "obs – observed datum (optional; should only be used in context of inference) optionally specified in kwargs\n",
    "\"\"\"\n",
    "```\n",
    "**Example 2**: Let sample from previous normal distribution created in example 1."
   ]
  },
  {
   "cell_type": "code",
   "execution_count": 10,
   "metadata": {},
   "outputs": [
    {
     "name": "stdout",
     "output_type": "stream",
     "text": [
      "tensor(-0.252)\n"
     ]
    }
   ],
   "source": [
    "mu = 0  \n",
    "sigma = 1 \n",
    "x = pyro.sample(\"my_sample\", dist.Normal(mu, sigma))\n",
    "print(x)"
   ]
  },
  {
   "cell_type": "markdown",
   "metadata": {},
   "source": [
    "The above code generate a random value and records it in the Pyro runtime."
   ]
  },
  {
   "cell_type": "code",
   "execution_count": 12,
   "metadata": {},
   "outputs": [
    {
     "name": "stderr",
     "output_type": "stream",
     "text": [
      "c:\\users\\joanna\\miniconda3\\lib\\site-packages\\pyro\\primitives.py:86: RuntimeWarning: trying to observe a value outside of inference at my_sample\n",
      "  RuntimeWarning)\n"
     ]
    },
    {
     "name": "stdout",
     "output_type": "stream",
     "text": [
      "2\n"
     ]
    }
   ],
   "source": [
    "data=2\n",
    "x = pyro.sample(\"my_sample\", dist.Normal(mu, sigma), obs=data)\n",
    "print(x)"
   ]
  },
  {
   "cell_type": "markdown",
   "metadata": {},
   "source": [
    "The above code conditions a stochatsic function on observed data. This should run on inference."
   ]
  },
  {
   "cell_type": "markdown",
   "metadata": {},
   "source": [
    "Pyro use  **pyro.param** statement to  saves the variable as a parameter in the param store. To interact with the param store. The **pyro.param** statement is used by pyro to  declares a learnable parameter.\n"
   ]
  },
  {
   "cell_type": "markdown",
   "metadata": {},
   "source": [
    "```python\n",
    "x = pyro.param(\"name\", init_value, constraints)\n",
    "\n",
    "\"\"\"\n",
    "name – name of param\n",
    "init_value – initial value\n",
    "constraint – torch constraint\n",
    "\"\"\"\n",
    "```\n",
    "**Example 3**: Let create theta parameter"
   ]
  },
  {
   "cell_type": "code",
   "execution_count": 14,
   "metadata": {},
   "outputs": [],
   "source": [
    "theta = pyro.param(\"theta\", torch.tensor(1.0), constraint=dist.constraints.positive)"
   ]
  },
  {
   "cell_type": "markdown",
   "metadata": {},
   "source": [
    "## Simple model\n",
    "\n",
    "### Regression model\n",
    "\\begin{align}\n",
    "y(t) &\\sim \\lambda \\exp(-\\lambda)\\\\\n",
    "\\lambda &\\sim \\exp(c + m(t))\\\\\n",
    "c &\\sim \\mathcal{N}(1, 1)\\\\\n",
    "m &\\sim \\mathcal{N}(0, 1)\n",
    "\\end{align}\n",
    "\n"
   ]
  },
  {
   "cell_type": "code",
   "execution_count": 27,
   "metadata": {},
   "outputs": [],
   "source": [
    "def model(y):\n",
    "    slope = pyro.sample(\"slope\", dist.Normal(0, 0.1))\n",
    "    intercept = pyro.sample(\"intercept\", dist.Normal(1, 1))\n",
    "    for t in range(len(y)):\n",
    "        rate = torch.exp(intercept + slope * t)\n",
    "        y[t] = pyro.sample(\"count_{}\".format(t), dist.Poisson(rate),\n",
    "                                obs=y[t])\n",
    "    return slope, intercept, y"
   ]
  },
  {
   "cell_type": "markdown",
   "metadata": {},
   "source": [
    "Given a pyro model.\n",
    "We can\n",
    "1. **Generate data from model**\n",
    "2. **Learn parameters of the model from data**\n",
    "3. **Use the model to predict future observation**."
   ]
  },
  {
   "cell_type": "code",
   "execution_count": 32,
   "metadata": {},
   "outputs": [
    {
     "data": {
      "image/png": "[encoded data removed]",
      "text/plain": [
       "<Figure size 576x360 with 1 Axes>"
      ]
     },
     "metadata": {
      "needs_background": "light"
     },
     "output_type": "display_data"
    }
   ],
   "source": [
    "pyro.set_rng_seed(0)\n",
    "# We pass counts = [None, ..., None] to indicate time duration.\n",
    "true_slope, true_intercept, true_counts = model([None] * 20)\n",
    "fig, ax =  plt.subplots(figsize=(8,5))\n",
    "ax = sns.lineplot(x=np.arange(len(true_counts)),y=[c.item() for c in true_counts])"
   ]
  },
  {
   "cell_type": "code",
   "execution_count": 43,
   "metadata": {},
   "outputs": [],
   "source": [
    "def traffic_model(y):\n",
    "    sigma = 1.0\n",
    "    eps = 0.5\n",
    "    prev_theta = pyro.param('initial_theta', torch.tensor(1.))\n",
    "    for t in range(len(y)):\n",
    "        theta = pyro.sample('theta', dist.Normal(prev_theta, eps))\n",
    "        y[t] = pyro.sample('x', dist.Normal(theta, sigma), obs=y[t])\n",
    "        prev_theta = theta\n",
    "    return prev_theta, y"
   ]
  },
  {
   "cell_type": "code",
   "execution_count": 44,
   "metadata": {},
   "outputs": [
    {
     "data": {
      "image/png": "[encoded data removed]",
      "text/plain": [
       "<Figure size 432x288 with 1 Axes>"
      ]
     },
     "metadata": {
      "needs_background": "light"
     },
     "output_type": "display_data"
    }
   ],
   "source": [
    "theta, traffic = traffic_model([None] * 2000)\n",
    "fig, ax =  plt.subplots(figsize=(6,4))\n",
    "ax = sns.lineplot(x=np.arange(len(traffic)),y=[c.item() for c in traffic])"
   ]
  },
  {
   "cell_type": "code",
   "execution_count": 46,
   "metadata": {},
   "outputs": [
    {
     "data": {
      "text/plain": [
       "tensor(0.103, grad_fn=<AddBackward0>)"
      ]
     },
     "execution_count": 46,
     "metadata": {},
     "output_type": "execute_result"
    }
   ],
   "source": [
    "theta"
   ]
  },
  {
   "cell_type": "code",
   "execution_count": null,
   "metadata": {},
   "outputs": [],
   "source": [
    "def fridge_model():\n",
    "    power_f = []\n",
    "    slope = pyro.sample(\"slope\", dist.Normal(2, 0.5))\n",
    "    tv_state = pyro.sample('ON', dist.Bernoulli(0.3))\n",
    "    tv_state = 'ON' if tv_state.item() == 1.0 else 'OFF'\n",
    "    mean_power = {'ON': 55.0, 'OFF': 5.0}[tv_state]\n",
    "    scale_power = {'ON': 10., 'OFF': 1.0}[tv_state]\n",
    "    t_on = pyro.sample(\"on_t\", dist.Normal(10, 5))\n",
    "    t_off = pyro.sample(\"of_t\", dist.Normal(20, 5))\n",
    "    p=pyro.sample('power', dist.Normal(mean_power, scale_power))\n",
    "    if tv_state==\"ON\":\n",
    "        \n",
    "        for t in range(int(t_on.item())):\n",
    "            decay=math.exp(-t)\n",
    "\n",
    "            #print(decay)\n",
    "            power_f.append(p)\n",
    "        \n",
    "    else:\n",
    "        \n",
    "        for t in range(int(t_off.item())):\n",
    "            decay=torch.exp(-slope*t)\n",
    "            power_f.append(p)\n",
    "\n",
    "    \n",
    "    return torch.stack(power_f).unsqueeze(1)"
   ]
  }
 ],
 "metadata": {
  "kernelspec": {
   "display_name": "Python 3",
   "language": "python",
   "name": "python3"
  },
  "language_info": {
   "codemirror_mode": {
    "name": "ipython",
    "version": 3
   },
   "file_extension": ".py",
   "mimetype": "text/x-python",
   "name": "python",
   "nbconvert_exporter": "python",
   "pygments_lexer": "ipython3",
   "version": "3.7.4"
  }
 },
 "nbformat": 4,
 "nbformat_minor": 4
}
